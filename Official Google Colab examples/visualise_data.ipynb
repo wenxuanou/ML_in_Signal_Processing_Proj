{
  "nbformat": 4,
  "nbformat_minor": 0,
  "metadata": {
    "colab": {
      "name": "visualise_data.ipynb",
      "provenance": [],
      "collapsed_sections": []
    },
    "kernelspec": {
      "name": "python3",
      "display_name": "Python 3"
    }
  },
  "cells": [
    {
      "cell_type": "code",
      "metadata": {
        "id": "Ivi9DpEbgJJe"
      },
      "source": [
        "!pip install l5kit\n",
        "!pip install -U PyYAML"
      ],
      "execution_count": null,
      "outputs": []
    },
    {
      "cell_type": "code",
      "metadata": {
        "id": "wRQOrAdwJPPm"
      },
      "source": [
        "dataPath = \"/content/gdrive/My Drive/Assignments/18797/lyftFormatColab\"\n",
        "#This folder should contain sample.tar and semantic_map.tar and aerial_map/aerial_map.png (from aerial_map.tar)\n",
        "#Upload agent_motion_config.yaml to runtime in /content/"
      ],
      "execution_count": 1,
      "outputs": []
    },
    {
      "cell_type": "code",
      "metadata": {
        "id": "PFGlr57zcTSf"
      },
      "source": [
        "import matplotlib.pyplot as plt\n",
        "\n",
        "import numpy as np\n",
        "\n",
        "from l5kit.data import ChunkedDataset, LocalDataManager\n",
        "from l5kit.dataset import EgoDataset, AgentDataset\n",
        "\n",
        "from l5kit.rasterization import build_rasterizer\n",
        "from l5kit.configs import load_config_data\n",
        "from l5kit.visualization import draw_trajectory, TARGET_POINTS_COLOR\n",
        "from l5kit.geometry import transform_points\n",
        "from tqdm import tqdm\n",
        "from collections import Counter\n",
        "from l5kit.data import PERCEPTION_LABELS\n",
        "from prettytable import PrettyTable\n",
        "\n",
        "import os"
      ],
      "execution_count": 2,
      "outputs": []
    },
    {
      "cell_type": "code",
      "metadata": {
        "id": "NdNV5SwIhO5C"
      },
      "source": [
        "import shutil\n",
        "from google.colab import drive\n",
        "drive.mount('/content/gdrive')\n",
        "\n",
        "shutil.unpack_archive(os.path.join(dataPath, \"sample.tar\"), \"sample\")\n",
        "shutil.unpack_archive(os.path.join(dataPath, \"semantic_map.tar\"), os.path.join(dataPath, \"semantic_map\"))"
      ],
      "execution_count": null,
      "outputs": []
    },
    {
      "cell_type": "code",
      "metadata": {
        "id": "QNV1mBldcZIR"
      },
      "source": [
        "# set env variable for data\n",
        "os.environ[\"L5KIT_DATA_FOLDER\"] = dataPath\n",
        "# get config\n",
        "cfg = load_config_data(\"./visualisation_config.yaml\")\n",
        "print(cfg)"
      ],
      "execution_count": null,
      "outputs": []
    },
    {
      "cell_type": "code",
      "metadata": {
        "id": "TM_4KgQuc98-"
      },
      "source": [
        "print(f'current raster_param:\\n')\n",
        "for k,v in cfg[\"raster_params\"].items():\n",
        "    print(f\"{k}:{v}\")"
      ],
      "execution_count": null,
      "outputs": []
    },
    {
      "cell_type": "code",
      "metadata": {
        "id": "Y2J1SidedfrN"
      },
      "source": [
        "dm = LocalDataManager()\n",
        "cfg[\"val_data_loader\"][\"key\"] = \"/content/sample/sample.zarr\"\n",
        "dataset_path = dm.require(cfg[\"val_data_loader\"][\"key\"])\n",
        "zarr_dataset = ChunkedDataset(dataset_path)\n",
        "zarr_dataset.open()\n",
        "print(zarr_dataset)"
      ],
      "execution_count": null,
      "outputs": []
    },
    {
      "cell_type": "code",
      "metadata": {
        "id": "dkFFdLO2h1Lw"
      },
      "source": [
        "frames = zarr_dataset.frames\n",
        "coords = np.zeros((len(frames), 2))\n",
        "for idx_coord, idx_data in enumerate(tqdm(range(len(frames)), desc=\"getting centroid to plot trajectory\")):\n",
        "    frame = zarr_dataset.frames[idx_data]\n",
        "    coords[idx_coord] = frame[\"ego_translation\"][:2]\n",
        "\n",
        "\n",
        "plt.scatter(coords[:, 0], coords[:, 1], marker='.')\n",
        "axes = plt.gca()\n",
        "axes.set_xlim([-2500, 1600])\n",
        "axes.set_ylim([-2500, 1600])"
      ],
      "execution_count": null,
      "outputs": []
    },
    {
      "cell_type": "code",
      "metadata": {
        "id": "Ez14aA7bikun"
      },
      "source": [
        "agents = zarr_dataset.agents\n",
        "probabilities = agents[\"label_probabilities\"]\n",
        "labels_indexes = np.argmax(probabilities, axis=1)\n",
        "counts = []\n",
        "for idx_label, label in enumerate(PERCEPTION_LABELS):\n",
        "    counts.append(np.sum(labels_indexes == idx_label))\n",
        "    \n",
        "table = PrettyTable(field_names=[\"label\", \"counts\"])\n",
        "for count, label in zip(counts, PERCEPTION_LABELS):\n",
        "    table.add_row([label, count])\n",
        "print(table)"
      ],
      "execution_count": null,
      "outputs": []
    },
    {
      "cell_type": "code",
      "metadata": {
        "id": "92RuQ-hCins3"
      },
      "source": [
        "rast = build_rasterizer(cfg, dm)\n",
        "dataset = EgoDataset(cfg, zarr_dataset, rast)"
      ],
      "execution_count": null,
      "outputs": []
    },
    {
      "cell_type": "code",
      "metadata": {
        "id": "JuW8jjrJmuMw"
      },
      "source": [
        "data = dataset[50]\n",
        "\n",
        "im = data[\"image\"].transpose(1, 2, 0)\n",
        "im = dataset.rasterizer.to_rgb(im)\n",
        "target_positions_pixels = transform_points(data[\"target_positions\"] + data[\"centroid\"][:2], data[\"world_to_image\"])\n",
        "draw_trajectory(im, target_positions_pixels, data[\"target_yaws\"], TARGET_POINTS_COLOR)\n",
        "\n",
        "plt.imshow(im[::-1])\n",
        "plt.show()"
      ],
      "execution_count": null,
      "outputs": []
    },
    {
      "cell_type": "code",
      "metadata": {
        "id": "VlonTIwrm0rR"
      },
      "source": [
        "cfg[\"raster_params\"][\"map_type\"] = \"py_satellite\"\n",
        "rast = build_rasterizer(cfg, dm)\n",
        "dataset = EgoDataset(cfg, zarr_dataset, rast)\n",
        "data = dataset[50]\n",
        "\n",
        "im = data[\"image\"].transpose(1, 2, 0)\n",
        "im = dataset.rasterizer.to_rgb(im)\n",
        "target_positions_pixels = transform_points(data[\"target_positions\"] + data[\"centroid\"][:2], data[\"world_to_image\"])\n",
        "draw_trajectory(im, target_positions_pixels, data[\"target_yaws\"], TARGET_POINTS_COLOR)\n",
        "\n",
        "plt.imshow(im[::-1])\n",
        "plt.show()"
      ],
      "execution_count": null,
      "outputs": []
    },
    {
      "cell_type": "code",
      "metadata": {
        "id": "X0e-mIdrsg6a"
      },
      "source": [
        "dataset = AgentDataset(cfg, zarr_dataset, rast)\n",
        "data = dataset[0]\n",
        "\n",
        "im = data[\"image\"].transpose(1, 2, 0)\n",
        "im = dataset.rasterizer.to_rgb(im)\n",
        "target_positions_pixels = transform_points(data[\"target_positions\"] + data[\"centroid\"][:2], data[\"world_to_image\"])\n",
        "draw_trajectory(im, target_positions_pixels, data[\"target_yaws\"], TARGET_POINTS_COLOR)\n",
        "\n",
        "plt.imshow(im[::-1])\n",
        "plt.show()"
      ],
      "execution_count": null,
      "outputs": []
    },
    {
      "cell_type": "code",
      "metadata": {
        "id": "acoei2ebs7DI"
      },
      "source": [
        "from IPython.display import display, clear_output\n",
        "import PIL\n",
        " \n",
        "cfg[\"raster_params\"][\"map_type\"] = \"py_semantic\"\n",
        "rast = build_rasterizer(cfg, dm)\n",
        "dataset = EgoDataset(cfg, zarr_dataset, rast)\n",
        "scene_idx = 2\n",
        "indexes = dataset.get_scene_indices(scene_idx)\n",
        "images = []\n",
        "\n",
        "for idx in indexes:\n",
        "    \n",
        "    data = dataset[idx]\n",
        "    im = data[\"image\"].transpose(1, 2, 0)\n",
        "    im = dataset.rasterizer.to_rgb(im)\n",
        "    target_positions_pixels = transform_points(data[\"target_positions\"] + data[\"centroid\"][:2], data[\"world_to_image\"])\n",
        "    center_in_pixels = np.asarray(cfg[\"raster_params\"][\"ego_center\"]) * cfg[\"raster_params\"][\"raster_size\"]\n",
        "    draw_trajectory(im, target_positions_pixels, data[\"target_yaws\"], TARGET_POINTS_COLOR)\n",
        "    clear_output(wait=True)\n",
        "    display(PIL.Image.fromarray(im[::-1]))"
      ],
      "execution_count": null,
      "outputs": []
    }
  ]
}